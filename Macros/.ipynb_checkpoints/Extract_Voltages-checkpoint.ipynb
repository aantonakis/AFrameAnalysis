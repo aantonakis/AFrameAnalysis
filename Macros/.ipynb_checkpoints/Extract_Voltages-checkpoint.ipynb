{
 "cells": [
  {
   "cell_type": "code",
   "execution_count": 1,
   "id": "94b528c8-475f-4018-baf2-178a7462d87c",
   "metadata": {},
   "outputs": [
    {
     "name": "stdout",
     "output_type": "stream",
     "text": [
      "Intel MKL WARNING: Support of Intel(R) Streaming SIMD Extensions 4.2 (Intel(R) SSE4.2) enabled only processors has been deprecated. Intel oneAPI Math Kernel Library 2025.0 will require Intel(R) Advanced Vector Extensions (Intel(R) AVX) instructions.\n",
      "Intel MKL WARNING: Support of Intel(R) Streaming SIMD Extensions 4.2 (Intel(R) SSE4.2) enabled only processors has been deprecated. Intel oneAPI Math Kernel Library 2025.0 will require Intel(R) Advanced Vector Extensions (Intel(R) AVX) instructions.\n"
     ]
    },
    {
     "data": {
      "text/html": [
       "<div>\n",
       "<style scoped>\n",
       "    .dataframe tbody tr th:only-of-type {\n",
       "        vertical-align: middle;\n",
       "    }\n",
       "\n",
       "    .dataframe tbody tr th {\n",
       "        vertical-align: top;\n",
       "    }\n",
       "\n",
       "    .dataframe thead th {\n",
       "        text-align: right;\n",
       "    }\n",
       "</style>\n",
       "<table border=\"1\" class=\"dataframe\">\n",
       "  <thead>\n",
       "    <tr style=\"text-align: right;\">\n",
       "      <th></th>\n",
       "      <th>strips</th>\n",
       "      <th>times</th>\n",
       "      <th>adcA</th>\n",
       "      <th>adcB</th>\n",
       "    </tr>\n",
       "  </thead>\n",
       "  <tbody>\n",
       "    <tr>\n",
       "      <th>0</th>\n",
       "      <td>[4243 5 5 -1 6 6 6]</td>\n",
       "      <td>[4243 2573181 2573177 -1 2573163 2573164 2573162]</td>\n",
       "      <td>[4243 2985 1620 -1 3667 2483 2307]</td>\n",
       "      <td>[4243 1120 1243 -1 2982 1640 4030]</td>\n",
       "    </tr>\n",
       "    <tr>\n",
       "      <th>1</th>\n",
       "      <td>[4243 8 8 8 6 6 6]</td>\n",
       "      <td>[4243 5248053 5248055 5248101 5248048 5248047 ...</td>\n",
       "      <td>[4243 2996 1880 1485 416 1876 1421]</td>\n",
       "      <td>[4243 3735 1426 486 2378 2799 2206]</td>\n",
       "    </tr>\n",
       "  </tbody>\n",
       "</table>\n",
       "</div>"
      ],
      "text/plain": [
       "                strips                                              times  \\\n",
       "0  [4243 5 5 -1 6 6 6]  [4243 2573181 2573177 -1 2573163 2573164 2573162]   \n",
       "1   [4243 8 8 8 6 6 6]  [4243 5248053 5248055 5248101 5248048 5248047 ...   \n",
       "\n",
       "                                  adcA                                 adcB  \n",
       "0   [4243 2985 1620 -1 3667 2483 2307]   [4243 1120 1243 -1 2982 1640 4030]  \n",
       "1  [4243 2996 1880 1485 416 1876 1421]  [4243 3735 1426 486 2378 2799 2206]  "
      ]
     },
     "execution_count": 1,
     "metadata": {},
     "output_type": "execute_result"
    }
   ],
   "source": [
    "import pandas as pd\n",
    "import numpy as np\n",
    "import uproot\n",
    "\n",
    "\n",
    "dir = \"/Users/alexanderantonakis/Desktop/Software/AFrameAnalysis/\"\n",
    "sys.path.append(dir+\"/Classes\")\n",
    "\n",
    "\n",
    "from ChannelMap import ChannelMap\n",
    "\n",
    "# Open the ROOT file and the TTree\n",
    "file = uproot.open(\"clusters_frame7.root\")  # Replace with your ROOT file\n",
    "tree = file[\"cluster_tree\"]    \n",
    "\n",
    "# Convert the TTree to a pandas DataFrame\n",
    "df = tree.arrays(library=\"pd\")\n",
    "\n",
    "df[:2]"
   ]
  },
  {
   "cell_type": "code",
   "execution_count": 2,
   "id": "e35b5065-3b31-4c85-bc1e-093dbb758193",
   "metadata": {},
   "outputs": [
    {
     "data": {
      "text/html": [
       "<div>\n",
       "<style scoped>\n",
       "    .dataframe tbody tr th:only-of-type {\n",
       "        vertical-align: middle;\n",
       "    }\n",
       "\n",
       "    .dataframe tbody tr th {\n",
       "        vertical-align: top;\n",
       "    }\n",
       "\n",
       "    .dataframe thead th {\n",
       "        text-align: right;\n",
       "    }\n",
       "</style>\n",
       "<table border=\"1\" class=\"dataframe\">\n",
       "  <thead>\n",
       "    <tr style=\"text-align: right;\">\n",
       "      <th></th>\n",
       "      <th>0</th>\n",
       "      <th>1</th>\n",
       "      <th>2</th>\n",
       "      <th>3</th>\n",
       "      <th>4</th>\n",
       "      <th>5</th>\n",
       "      <th>6</th>\n",
       "    </tr>\n",
       "  </thead>\n",
       "  <tbody>\n",
       "    <tr>\n",
       "      <th>0</th>\n",
       "      <td>4243</td>\n",
       "      <td>5</td>\n",
       "      <td>5</td>\n",
       "      <td>-1</td>\n",
       "      <td>6</td>\n",
       "      <td>6</td>\n",
       "      <td>6</td>\n",
       "    </tr>\n",
       "    <tr>\n",
       "      <th>1</th>\n",
       "      <td>4243</td>\n",
       "      <td>8</td>\n",
       "      <td>8</td>\n",
       "      <td>8</td>\n",
       "      <td>6</td>\n",
       "      <td>6</td>\n",
       "      <td>6</td>\n",
       "    </tr>\n",
       "  </tbody>\n",
       "</table>\n",
       "</div>"
      ],
      "text/plain": [
       "      0  1  2  3  4  5  6\n",
       "0  4243  5  5 -1  6  6  6\n",
       "1  4243  8  8  8  6  6  6"
      ]
     },
     "execution_count": 2,
     "metadata": {},
     "output_type": "execute_result"
    }
   ],
   "source": [
    "strip_df = pd.DataFrame(df['strips'].tolist())\n",
    "columns = [\"Run\"]\n",
    "for feb in horiz_febs:\n",
    "    columns.append(\"FEB\"+feb)\n",
    "strip_df.columns = columns\n",
    "strip_df[:2]"
   ]
  },
  {
   "cell_type": "code",
   "execution_count": null,
   "id": "2bec7a80-872c-4ec8-8023-8fb81b28295a",
   "metadata": {},
   "outputs": [],
   "source": []
  }
 ],
 "metadata": {
  "kernelspec": {
   "display_name": "pyROOT_3.9_env",
   "language": "python",
   "name": "pyroot_3.9_env"
  },
  "language_info": {
   "codemirror_mode": {
    "name": "ipython",
    "version": 3
   },
   "file_extension": ".py",
   "mimetype": "text/x-python",
   "name": "python",
   "nbconvert_exporter": "python",
   "pygments_lexer": "ipython3",
   "version": "3.9.17"
  }
 },
 "nbformat": 4,
 "nbformat_minor": 5
}
