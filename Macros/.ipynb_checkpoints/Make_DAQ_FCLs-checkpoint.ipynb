{
 "cells": [
  {
   "cell_type": "code",
   "execution_count": null,
   "id": "72d02845-4fe8-4c6e-889d-372ccdc1154e",
   "metadata": {},
   "outputs": [],
   "source": [
    "import matplotlib.pyplot as plt\n",
    "import pandas as pd\n",
    "import numpy as np\n",
    "import uproot\n",
    "import sys\n",
    "import math\n",
    "\n",
    "dir = \"/Users/alexanderantonakis/Desktop/Software/AFrameAnalysis/Macros/\"\n",
    "\n",
    "sys.path.append(\"../Utils\")\n",
    "sys.path.append(\"../Configs\")\n",
    "\n",
    "\n"
   ]
  }
 ],
 "metadata": {
  "kernelspec": {
   "display_name": "pyROOT_3.9_env",
   "language": "python",
   "name": "pyroot_3.9_env"
  },
  "language_info": {
   "codemirror_mode": {
    "name": "ipython",
    "version": 3
   },
   "file_extension": ".py",
   "mimetype": "text/x-python",
   "name": "python",
   "nbconvert_exporter": "python",
   "pygments_lexer": "ipython3",
   "version": "3.9.17"
  }
 },
 "nbformat": 4,
 "nbformat_minor": 5
}
