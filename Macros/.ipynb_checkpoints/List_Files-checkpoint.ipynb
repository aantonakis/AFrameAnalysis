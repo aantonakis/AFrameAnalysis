{
 "cells": [
  {
   "cell_type": "code",
   "execution_count": 1,
   "id": "297501b9-6ebc-40de-aa9c-51b2490d319e",
   "metadata": {},
   "outputs": [
    {
     "name": "stdout",
     "output_type": "stream",
     "text": [
      "Intel MKL WARNING: Support of Intel(R) Streaming SIMD Extensions 4.2 (Intel(R) SSE4.2) enabled only processors has been deprecated. Intel oneAPI Math Kernel Library 2025.0 will require Intel(R) Advanced Vector Extensions (Intel(R) AVX) instructions.\n",
      "Intel MKL WARNING: Support of Intel(R) Streaming SIMD Extensions 4.2 (Intel(R) SSE4.2) enabled only processors has been deprecated. Intel oneAPI Math Kernel Library 2025.0 will require Intel(R) Advanced Vector Extensions (Intel(R) AVX) instructions.\n",
      "Extract_Voltages.ipynb\n",
      "Make_DAQ_FCLs.ipynb\n",
      "Raw_Data_Diagnostics.ipynb\n",
      "Untitled.ipynb\n",
      "Untitled1.ipynb\n",
      "clusters_frame1.root\n",
      "clusters_frame1_run5952_5955.root\n",
      "clusters_frame7.root\n",
      "make_clusters.C\n"
     ]
    },
    {
     "data": {
      "text/plain": [
       "0"
      ]
     },
     "execution_count": 1,
     "metadata": {},
     "output_type": "execute_result"
    }
   ],
   "source": [
    "import matplotlib.pyplot as plt\n",
    "import pandas as pd\n",
    "import numpy as np\n",
    "import uproot\n",
    "import sys\n",
    "import math\n",
    "import os\n",
    "\n",
    "dir = \"/Users/alexanderantonakis/Desktop/Software/AFrameAnalysis/Macros/\"\n",
    "\n",
    "sys.path.append(\"../Utils\")\n",
    "sys.path.append(\"../Configs\")\n",
    "\n",
    "os.system(\"ls\")"
   ]
  },
  {
   "cell_type": "code",
   "execution_count": null,
   "id": "3cc8f4b2-bec1-432f-8760-056cb95cb2ca",
   "metadata": {},
   "outputs": [],
   "source": []
  }
 ],
 "metadata": {
  "kernelspec": {
   "display_name": "pyROOT_3.9_env",
   "language": "python",
   "name": "pyroot_3.9_env"
  },
  "language_info": {
   "codemirror_mode": {
    "name": "ipython",
    "version": 3
   },
   "file_extension": ".py",
   "mimetype": "text/x-python",
   "name": "python",
   "nbconvert_exporter": "python",
   "pygments_lexer": "ipython3",
   "version": "3.9.17"
  }
 },
 "nbformat": 4,
 "nbformat_minor": 5
}
