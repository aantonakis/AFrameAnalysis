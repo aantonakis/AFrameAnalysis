{
 "cells": [
  {
   "cell_type": "code",
   "execution_count": null,
   "id": "0",
   "metadata": {},
   "outputs": [],
   "source": [
    "import ROOT\n",
    "import os\n",
    "import sys\n",
    "import uproot\n",
    "\n",
    "dir = \"/Users/alexanderantonakis/Desktop/Software/AFrameAnalysis/Macros/\"\n",
    "\n",
    "sys.path.append(\"../Data\")\n",
    "os.system(\"ls ../Data/\")"
   ]
  },
  {
   "cell_type": "code",
   "execution_count": null,
   "id": "1",
   "metadata": {},
   "outputs": [],
   "source": [
    "\n",
    "filename = \"../Data/outtree_frame1_run6106_run6110.root\"\n",
    "rfile = ROOT.TFile.Open(filename, \"READ\")\n",
    "rfile.cd(\"reco\")\n",
    "rfile.ls()"
   ]
  },
  {
   "cell_type": "code",
   "execution_count": null,
   "id": "2",
   "metadata": {},
   "outputs": [],
   "source": [
    "events = rfile.Get(\"reco/events\")\n",
    "events.Print()"
   ]
  },
  {
   "cell_type": "code",
   "execution_count": null,
   "id": "3",
   "metadata": {},
   "outputs": [],
   "source": [
    "# Open the ROOT file and the TTree\n",
    "file = uproot.open(filename)  # Replace with your ROOT file\n",
    "tree = file[\"reco/events\"]    \n",
    "\n",
    "# Convert the TTree to a pandas DataFrame\n",
    "df = tree.arrays(library=\"pd\")"
   ]
  },
  {
   "cell_type": "code",
   "execution_count": null,
   "id": "4",
   "metadata": {},
   "outputs": [],
   "source": [
    "df[:2]"
   ]
  },
  {
   "cell_type": "code",
   "execution_count": null,
   "id": "5",
   "metadata": {},
   "outputs": [],
   "source": [
    "all_febs = []\n",
    "for num in range(20):\n",
    "    febs = list(set(list(df.iloc[num]['mac5'])))\n",
    "    all_febs += febs\n",
    "    \n",
    "all_febs = list(set(all_febs))    \n",
    "print(febs)"
   ]
  },
  {
   "cell_type": "code",
   "execution_count": null,
   "id": "6",
   "metadata": {},
   "outputs": [],
   "source": [
    "run6110_df = df.query(\"fRun == 6110\")\n",
    "run6110_df[:4]"
   ]
  },
  {
   "cell_type": "code",
   "execution_count": null,
   "id": "7",
   "metadata": {},
   "outputs": [],
   "source": []
  }
 ],
 "metadata": {
  "kernelspec": {
   "display_name": "pyROOT_3.9_env",
   "language": "python",
   "name": "pyroot_3.9_env"
  },
  "language_info": {
   "codemirror_mode": {
    "name": "ipython",
    "version": 3
   },
   "file_extension": ".py",
   "mimetype": "text/x-python",
   "name": "python",
   "nbconvert_exporter": "python",
   "pygments_lexer": "ipython3",
   "version": "3.9.17"
  }
 },
 "nbformat": 4,
 "nbformat_minor": 5
}
