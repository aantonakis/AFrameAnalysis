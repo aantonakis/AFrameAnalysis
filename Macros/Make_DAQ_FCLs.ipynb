{
 "cells": [
  {
   "cell_type": "code",
   "execution_count": 1,
   "id": "72d02845-4fe8-4c6e-889d-372ccdc1154e",
   "metadata": {},
   "outputs": [
    {
     "name": "stdout",
     "output_type": "stream",
     "text": [
      "Intel MKL WARNING: Support of Intel(R) Streaming SIMD Extensions 4.2 (Intel(R) SSE4.2) enabled only processors has been deprecated. Intel oneAPI Math Kernel Library 2025.0 will require Intel(R) Advanced Vector Extensions (Intel(R) AVX) instructions.\n",
      "Intel MKL WARNING: Support of Intel(R) Streaming SIMD Extensions 4.2 (Intel(R) SSE4.2) enabled only processors has been deprecated. Intel oneAPI Math Kernel Library 2025.0 will require Intel(R) Advanced Vector Extensions (Intel(R) AVX) instructions.\n",
      "All bias settings available\n",
      "['bias_settings_frame7_goal_95.root']\n"
     ]
    },
    {
     "data": {
      "text/html": [
       "<div>\n",
       "<style scoped>\n",
       "    .dataframe tbody tr th:only-of-type {\n",
       "        vertical-align: middle;\n",
       "    }\n",
       "\n",
       "    .dataframe tbody tr th {\n",
       "        vertical-align: top;\n",
       "    }\n",
       "\n",
       "    .dataframe thead th {\n",
       "        text-align: right;\n",
       "    }\n",
       "</style>\n",
       "<table border=\"1\" class=\"dataframe\">\n",
       "  <thead>\n",
       "    <tr style=\"text-align: right;\">\n",
       "      <th></th>\n",
       "      <th>Frame</th>\n",
       "      <th>Frame_FEB</th>\n",
       "      <th>DAQ_FEB</th>\n",
       "      <th>Wall</th>\n",
       "    </tr>\n",
       "  </thead>\n",
       "  <tbody>\n",
       "    <tr>\n",
       "      <th>0</th>\n",
       "      <td>1</td>\n",
       "      <td>73</td>\n",
       "      <td>238</td>\n",
       "      <td>North</td>\n",
       "    </tr>\n",
       "    <tr>\n",
       "      <th>1</th>\n",
       "      <td>1</td>\n",
       "      <td>155</td>\n",
       "      <td>155</td>\n",
       "      <td>North</td>\n",
       "    </tr>\n",
       "    <tr>\n",
       "      <th>2</th>\n",
       "      <td>1</td>\n",
       "      <td>181</td>\n",
       "      <td>058</td>\n",
       "      <td>North</td>\n",
       "    </tr>\n",
       "    <tr>\n",
       "      <th>3</th>\n",
       "      <td>1</td>\n",
       "      <td>182</td>\n",
       "      <td>182</td>\n",
       "      <td>North</td>\n",
       "    </tr>\n",
       "  </tbody>\n",
       "</table>\n",
       "</div>"
      ],
      "text/plain": [
       "   Frame  Frame_FEB DAQ_FEB   Wall\n",
       "0      1         73     238  North\n",
       "1      1        155     155  North\n",
       "2      1        181     058  North\n",
       "3      1        182     182  North"
      ]
     },
     "execution_count": 1,
     "metadata": {},
     "output_type": "execute_result"
    }
   ],
   "source": [
    "import matplotlib.pyplot as plt\n",
    "import pandas as pd\n",
    "import numpy as np\n",
    "import uproot\n",
    "import sys\n",
    "import math\n",
    "import os\n",
    "\n",
    "dir = \"/Users/alexanderantonakis/Desktop/Software/AFrameAnalysis/Macros/\"\n",
    "\n",
    "sys.path.append(\"../Utils\")\n",
    "sys.path.append(\"../Configs\")\n",
    "sys.path.append(\"../DAQ\")\n",
    "sys.path.append(\"../Mappings\")\n",
    "sys.path.append(\"../BiasFiles\")\n",
    "\n",
    "from frame_to_crt_fcl import *\n",
    "\n",
    "\n",
    "daq_df = pd.DataFrame(frame_map, columns = [\"Frame\", \"Frame_FEB\", \"DAQ_FEB\", \"Wall\"])\n",
    "\n",
    "all_bias_files = [f for f in os.listdir(\"../BiasFiles\") if os.path.isfile(\"../BiasFiles/\"+f)]\n",
    "print(\"All bias settings available\")\n",
    "print(all_bias_files)\n",
    "\n",
    "daq_df[:4]"
   ]
  },
  {
   "cell_type": "code",
   "execution_count": 2,
   "id": "1a2c9114-90f3-4dda-99b8-bd8cf7278129",
   "metadata": {},
   "outputs": [
    {
     "name": "stdout",
     "output_type": "stream",
     "text": [
      "bias files to be examined\n",
      "['bias_settings_frame7_goal_95.root']\n"
     ]
    }
   ],
   "source": [
    "goal = 95 # eff goal\n",
    "bias_files = []\n",
    "\n",
    "for f in all_bias_files:\n",
    "    g = f.split(\".root\")[0].split(\"_\")[-1]\n",
    "    if int(g) == goal:\n",
    "        bias_files.append(f)\n",
    "    \n",
    "print(\"bias files to be examined\")\n",
    "print(bias_files)"
   ]
  },
  {
   "cell_type": "code",
   "execution_count": 3,
   "id": "82dc721e-5ac5-4d7a-962f-8c986beca8fb",
   "metadata": {},
   "outputs": [],
   "source": [
    "# Function for converting a voltage to a setting number\n",
    "def calc_setting(v):\n",
    "    return 255 - ((255.0/4)*(68.1 - v))"
   ]
  },
  {
   "cell_type": "code",
   "execution_count": 4,
   "id": "a229d679-6beb-4193-a35c-2a7d2e811be1",
   "metadata": {},
   "outputs": [],
   "source": [
    "def make_new_fcl(name, settings, avg):\n",
    "    new_lines = []\n",
    "    std_fcl = \"../DAQ/east_rates_nominal/feb018.fcl\"\n",
    "    count = 0\n",
    "    with open(std_fcl, 'r') as file:\n",
    "        # Loop through each line in the file\n",
    "        for line in file:\n",
    "        # Strip the newline character and split the line by whitespace\n",
    "            temp_line = line.strip().split()\n",
    "            if len(temp_line) > 0:\n",
    "                if temp_line[0] == \"[\":\n",
    "                    #print(temp_line)\n",
    "                    i = temp_line.index('170,')\n",
    "                    new_line = temp_line\n",
    "                    #new_line[i] = \"180,\"\n",
    "                    if settings[count] > 230:\n",
    "                        new_line[i] = \"230,\"\n",
    "                    elif 0 < settings[count] < 140:\n",
    "                        new_line[i] = \"140,\"\n",
    "                    elif settings[count] < 0:\n",
    "                        new_line[i] = str(avg)+\",\"\n",
    "                    else:\n",
    "                        new_line[i] = str(settings[count]) + \",\"\n",
    "                    count += 1\n",
    "                    #new_lines.append(new_line)\n",
    "                    final_line = \"\"\n",
    "                    for w in new_line:\n",
    "                        final_line += w\n",
    "                        final_line += \" \"\n",
    "                    final_line += \"\\n\"\n",
    "                    new_lines.append(final_line)\n",
    "                else:\n",
    "                    new_lines.append(line)\n",
    "            else:\n",
    "                new_lines.append(line)\n",
    "    \n",
    "    # Open new file in write mode\n",
    "    with open(\"../DAQ/DAQ_FCL_\"+str(goal)+\"/\"+name, 'w') as file:\n",
    "        # Loop through each line in the list\n",
    "        for line in new_lines:\n",
    "            # Write the line to the file\n",
    "            file.write(line)\n",
    "        "
   ]
  },
  {
   "cell_type": "code",
   "execution_count": 5,
   "id": "c945475d-4647-42f4-a0ad-f05160214470",
   "metadata": {},
   "outputs": [
    {
     "name": "stdout",
     "output_type": "stream",
     "text": [
      "loop over bias files\n",
      "Current Frame 7\n",
      "current fcl file feb197.fcl\n",
      "Settings [-4150, -4150, 203, 203, 204, 204, 208, 208, 206, 206, 213, 213, 222, 222, 219, 219, 217, 217, 221, 221, 215, 215, 223, 223, 217, 217, 206, 206, 207, 207, -4150, -4150]\n",
      "\n"
     ]
    },
    {
     "ename": "FileNotFoundError",
     "evalue": "[Errno 2] No such file or directory: '../DAQ/DAQ_FCL_95/feb197.fcl'",
     "output_type": "error",
     "traceback": [
      "\u001b[0;31m---------------------------------------------------------------------------\u001b[0m",
      "\u001b[0;31mFileNotFoundError\u001b[0m                         Traceback (most recent call last)",
      "Cell \u001b[0;32mIn[5], line 36\u001b[0m\n\u001b[1;32m     34\u001b[0m         avg \u001b[38;5;241m=\u001b[39m np\u001b[38;5;241m.\u001b[39mmean(np\u001b[38;5;241m.\u001b[39marray(\u001b[38;5;28mlist\u001b[39m(df\u001b[38;5;241m.\u001b[39mquery(\u001b[38;5;124m\"\u001b[39m\u001b[38;5;124mv > -1 and S > 140 and feb == \u001b[39m\u001b[38;5;124m\"\u001b[39m\u001b[38;5;241m+\u001b[39m\u001b[38;5;28mstr\u001b[39m(feb))[\u001b[38;5;124m\"\u001b[39m\u001b[38;5;124mS\u001b[39m\u001b[38;5;124m\"\u001b[39m]\u001b[38;5;241m.\u001b[39mvalues)))\n\u001b[1;32m     35\u001b[0m         avg \u001b[38;5;241m=\u001b[39m \u001b[38;5;28mint\u001b[39m(math\u001b[38;5;241m.\u001b[39mceil(avg))\n\u001b[0;32m---> 36\u001b[0m         \u001b[43mmake_new_fcl\u001b[49m\u001b[43m(\u001b[49m\u001b[43mfcl_file\u001b[49m\u001b[43m,\u001b[49m\u001b[43m \u001b[49m\u001b[43msettings\u001b[49m\u001b[43m,\u001b[49m\u001b[43m \u001b[49m\u001b[43mavg\u001b[49m\u001b[43m)\u001b[49m\n\u001b[1;32m     40\u001b[0m df[:\u001b[38;5;241m2\u001b[39m]\n",
      "Cell \u001b[0;32mIn[4], line 38\u001b[0m, in \u001b[0;36mmake_new_fcl\u001b[0;34m(name, settings, avg)\u001b[0m\n\u001b[1;32m     35\u001b[0m             new_lines\u001b[38;5;241m.\u001b[39mappend(line)\n\u001b[1;32m     37\u001b[0m \u001b[38;5;66;03m# Open new file in write mode\u001b[39;00m\n\u001b[0;32m---> 38\u001b[0m \u001b[38;5;28;01mwith\u001b[39;00m \u001b[38;5;28;43mopen\u001b[39;49m\u001b[43m(\u001b[49m\u001b[38;5;124;43m\"\u001b[39;49m\u001b[38;5;124;43m../DAQ/DAQ_FCL_\u001b[39;49m\u001b[38;5;124;43m\"\u001b[39;49m\u001b[38;5;241;43m+\u001b[39;49m\u001b[38;5;28;43mstr\u001b[39;49m\u001b[43m(\u001b[49m\u001b[43mgoal\u001b[49m\u001b[43m)\u001b[49m\u001b[38;5;241;43m+\u001b[39;49m\u001b[38;5;124;43m\"\u001b[39;49m\u001b[38;5;124;43m/\u001b[39;49m\u001b[38;5;124;43m\"\u001b[39;49m\u001b[38;5;241;43m+\u001b[39;49m\u001b[43mname\u001b[49m\u001b[43m,\u001b[49m\u001b[43m \u001b[49m\u001b[38;5;124;43m'\u001b[39;49m\u001b[38;5;124;43mw\u001b[39;49m\u001b[38;5;124;43m'\u001b[39;49m\u001b[43m)\u001b[49m \u001b[38;5;28;01mas\u001b[39;00m file:\n\u001b[1;32m     39\u001b[0m     \u001b[38;5;66;03m# Loop through each line in the list\u001b[39;00m\n\u001b[1;32m     40\u001b[0m     \u001b[38;5;28;01mfor\u001b[39;00m line \u001b[38;5;129;01min\u001b[39;00m new_lines:\n\u001b[1;32m     41\u001b[0m         \u001b[38;5;66;03m# Write the line to the file\u001b[39;00m\n\u001b[1;32m     42\u001b[0m         file\u001b[38;5;241m.\u001b[39mwrite(line)\n",
      "File \u001b[0;32m~/opt/anaconda3/envs/pyROOT_3.9_env/lib/python3.9/site-packages/IPython/core/interactiveshell.py:284\u001b[0m, in \u001b[0;36m_modified_open\u001b[0;34m(file, *args, **kwargs)\u001b[0m\n\u001b[1;32m    277\u001b[0m \u001b[38;5;28;01mif\u001b[39;00m file \u001b[38;5;129;01min\u001b[39;00m {\u001b[38;5;241m0\u001b[39m, \u001b[38;5;241m1\u001b[39m, \u001b[38;5;241m2\u001b[39m}:\n\u001b[1;32m    278\u001b[0m     \u001b[38;5;28;01mraise\u001b[39;00m \u001b[38;5;167;01mValueError\u001b[39;00m(\n\u001b[1;32m    279\u001b[0m         \u001b[38;5;124mf\u001b[39m\u001b[38;5;124m\"\u001b[39m\u001b[38;5;124mIPython won\u001b[39m\u001b[38;5;124m'\u001b[39m\u001b[38;5;124mt let you open fd=\u001b[39m\u001b[38;5;132;01m{\u001b[39;00mfile\u001b[38;5;132;01m}\u001b[39;00m\u001b[38;5;124m by default \u001b[39m\u001b[38;5;124m\"\u001b[39m\n\u001b[1;32m    280\u001b[0m         \u001b[38;5;124m\"\u001b[39m\u001b[38;5;124mas it is likely to crash IPython. If you know what you are doing, \u001b[39m\u001b[38;5;124m\"\u001b[39m\n\u001b[1;32m    281\u001b[0m         \u001b[38;5;124m\"\u001b[39m\u001b[38;5;124myou can use builtins\u001b[39m\u001b[38;5;124m'\u001b[39m\u001b[38;5;124m open.\u001b[39m\u001b[38;5;124m\"\u001b[39m\n\u001b[1;32m    282\u001b[0m     )\n\u001b[0;32m--> 284\u001b[0m \u001b[38;5;28;01mreturn\u001b[39;00m \u001b[43mio_open\u001b[49m\u001b[43m(\u001b[49m\u001b[43mfile\u001b[49m\u001b[43m,\u001b[49m\u001b[43m \u001b[49m\u001b[38;5;241;43m*\u001b[39;49m\u001b[43margs\u001b[49m\u001b[43m,\u001b[49m\u001b[43m \u001b[49m\u001b[38;5;241;43m*\u001b[39;49m\u001b[38;5;241;43m*\u001b[39;49m\u001b[43mkwargs\u001b[49m\u001b[43m)\u001b[49m\n",
      "\u001b[0;31mFileNotFoundError\u001b[0m: [Errno 2] No such file or directory: '../DAQ/DAQ_FCL_95/feb197.fcl'"
     ]
    }
   ],
   "source": [
    "print(\"loop over bias files\")\n",
    "df = 0\n",
    "for f in bias_files:\n",
    "    frame = int(f.split(\"frame\")[1][0])\n",
    "    print(\"Current Frame\", frame)\n",
    "\n",
    "    file = uproot.open(\"../BiasFiles/\"+f)  # Replace with your ROOT file\n",
    "    tree = file[\"bias_settings_frame\"+str(frame)]    \n",
    "    # Convert the TTree to a pandas DataFrame\n",
    "    df = tree.arrays(library=\"pd\")\n",
    "    if int(df['frame'].values[0]) != frame:\n",
    "        print(\"Houston we have a problem !!!!\")\n",
    "        break\n",
    "    df['S'] = df['v'].apply(calc_setting)\n",
    "    febs = list(set(list(df['feb'].values)))\n",
    "\n",
    "    # loop over the febs in this bias file ...\n",
    "    for feb in febs:\n",
    "        new_feb = str(int(feb))\n",
    "        daq_feb = daq_df.query(\"Frame == @frame and Frame_FEB == \"+new_feb)[\"DAQ_FEB\"].values[0]\n",
    "        fcl_file = \"feb\"+daq_feb+\".fcl\"\n",
    "        print(\"current fcl file\", fcl_file)\n",
    "\n",
    "        # Loop over the number of Module Channels --> # of SiPMs\n",
    "        settings = []\n",
    "        for c in range(32):\n",
    "            strip = int(c /2)\n",
    "            #print(\"Channel\", c, \"strip\", strip)\n",
    "            S = df.query(\"feb == \"+str(feb)+\" and strip == \"+str(strip))['S'].values[0]\n",
    "            #print(\"S\", S)\n",
    "            settings.append(int(math.ceil(S)))\n",
    "        print(\"Settings\", settings)\n",
    "        print(\"\")\n",
    "        avg = np.mean(np.array(list(df.query(\"v > -1 and S > 140 and feb == \"+str(feb))[\"S\"].values)))\n",
    "        avg = int(math.ceil(avg))\n",
    "        make_new_fcl(fcl_file, settings, avg)\n",
    "        \n",
    "\n",
    "    \n",
    "df[:2]"
   ]
  },
  {
   "cell_type": "code",
   "execution_count": null,
   "id": "a1e2de9a-f60b-4834-ac01-d4d0a13c67f4",
   "metadata": {},
   "outputs": [],
   "source": [
    "        "
   ]
  }
 ],
 "metadata": {
  "kernelspec": {
   "display_name": "pyROOT_3.9_env",
   "language": "python",
   "name": "pyroot_3.9_env"
  },
  "language_info": {
   "codemirror_mode": {
    "name": "ipython",
    "version": 3
   },
   "file_extension": ".py",
   "mimetype": "text/x-python",
   "name": "python",
   "nbconvert_exporter": "python",
   "pygments_lexer": "ipython3",
   "version": "3.9.17"
  }
 },
 "nbformat": 4,
 "nbformat_minor": 5
}
